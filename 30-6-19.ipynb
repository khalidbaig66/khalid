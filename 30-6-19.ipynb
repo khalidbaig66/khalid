{
 "cells": [
  {
   "cell_type": "code",
   "execution_count": 5,
   "metadata": {},
   "outputs": [],
   "source": [
    "def x(a, b):\n",
    "    print('Hello World')\n",
    "    print(a+b)"
   ]
  },
  {
   "cell_type": "code",
   "execution_count": 6,
   "metadata": {},
   "outputs": [
    {
     "name": "stdout",
     "output_type": "stream",
     "text": [
      "Hello World\n",
      "11\n",
      "Hello World\n",
      "23\n"
     ]
    }
   ],
   "source": [
    "x(5,6)\n",
    "x(11,12)"
   ]
  },
  {
   "cell_type": "markdown",
   "metadata": {},
   "source": [
    "# OOP"
   ]
  },
  {
   "cell_type": "code",
   "execution_count": 8,
   "metadata": {},
   "outputs": [],
   "source": [
    "class Student():\n",
    "    def __init__(self, Id , Name):\n",
    "        self.Id = Id\n",
    "        self.Name = Name\n",
    "    \n",
    "    def study(self):\n",
    "        print(self.Name,'is studying')"
   ]
  },
  {
   "cell_type": "code",
   "execution_count": 13,
   "metadata": {},
   "outputs": [],
   "source": [
    "s1 = Student(22, 'ismail')\n",
    "s1.Name= \"Muneeb\""
   ]
  },
  {
   "cell_type": "code",
   "execution_count": 14,
   "metadata": {},
   "outputs": [
    {
     "name": "stdout",
     "output_type": "stream",
     "text": [
      "Muneeb is studying\n"
     ]
    }
   ],
   "source": [
    "s1.study()"
   ]
  },
  {
   "cell_type": "code",
   "execution_count": 15,
   "metadata": {},
   "outputs": [],
   "source": [
    "class AIStudent(Student):\n",
    "    def __init__(self, Id, Name, CourseraID):\n",
    "        super().__init__(Id, Name)\n",
    "        self.CourseraID = CourseraID\n",
    "    \n",
    "    def study(self):\n",
    "        print(\"Python, OOPs, TensorFlow\")\n",
    "    "
   ]
  },
  {
   "cell_type": "code",
   "execution_count": 16,
   "metadata": {},
   "outputs": [],
   "source": [
    "class Blockchain(Student):\n",
    "    def __init__ (self,Id,Name,CryptoID):\n",
    "        super().__init__(Id,Name)\n",
    "        self.CryptoID = CryptoID\n",
    "        \n",
    "    def study(self):\n",
    "        print('Cryptography,Smart Contracts,Solidity')\n",
    "    "
   ]
  },
  {
   "cell_type": "code",
   "execution_count": 17,
   "metadata": {},
   "outputs": [],
   "source": [
    "class Cloudcomputing(Student):\n",
    "    def __init__(self,Id,Name,Amazon_id):\n",
    "        super().__init__(Id,Name)\n",
    "        self.Amazon_id=Amazon_id\n",
    "    def study(self):\n",
    "        print(\"Linux\",\"Docker\",\"Kubernetes\")"
   ]
  },
  {
   "cell_type": "code",
   "execution_count": 19,
   "metadata": {},
   "outputs": [],
   "source": [
    "ali=Blockchain(\"000\",\"ali\",\"54540\")"
   ]
  },
  {
   "cell_type": "code",
   "execution_count": 21,
   "metadata": {},
   "outputs": [
    {
     "name": "stdout",
     "output_type": "stream",
     "text": [
      "Cryptography,Smart Contracts,Solidity\n"
     ]
    }
   ],
   "source": [
    "ali.study()"
   ]
  },
  {
   "cell_type": "code",
   "execution_count": 22,
   "metadata": {},
   "outputs": [
    {
     "name": "stdout",
     "output_type": "stream",
     "text": [
      "ali\n"
     ]
    }
   ],
   "source": [
    "print(ali.Name)"
   ]
  },
  {
   "cell_type": "code",
   "execution_count": 23,
   "metadata": {},
   "outputs": [
    {
     "name": "stdout",
     "output_type": "stream",
     "text": [
      "000\n"
     ]
    }
   ],
   "source": [
    "print(ali.Id)"
   ]
  },
  {
   "cell_type": "code",
   "execution_count": 24,
   "metadata": {},
   "outputs": [
    {
     "name": "stdout",
     "output_type": "stream",
     "text": [
      "54540\n"
     ]
    }
   ],
   "source": [
    "print(ali.CryptoID)"
   ]
  },
  {
   "cell_type": "code",
   "execution_count": null,
   "metadata": {},
   "outputs": [],
   "source": []
  },
  {
   "cell_type": "code",
   "execution_count": null,
   "metadata": {},
   "outputs": [],
   "source": []
  },
  {
   "cell_type": "code",
   "execution_count": 25,
   "metadata": {},
   "outputs": [
    {
     "name": "stdout",
     "output_type": "stream",
     "text": [
      "Python, OOPs, TensorFlow\n"
     ]
    }
   ],
   "source": [
    "aI_student=AIStudent(123,'Ali','cs123')\n",
    "aI_student.study()"
   ]
  },
  {
   "cell_type": "code",
   "execution_count": 26,
   "metadata": {},
   "outputs": [
    {
     "name": "stdout",
     "output_type": "stream",
     "text": [
      "Linux Docker Kubernetes\n"
     ]
    }
   ],
   "source": [
    "student = Cloudcomputing(\"5454\", \"salman\", \"9889\")\n",
    "student.study()"
   ]
  },
  {
   "cell_type": "code",
   "execution_count": 27,
   "metadata": {},
   "outputs": [],
   "source": [
    "class Shape():\n",
    "    def __init__(self, color, sides):\n",
    "        self.color = color\n",
    "        self.sides = sides\n",
    "        \n",
    "    def Draw(self):\n",
    "        print(\"Shape is being Drawn.\")\n",
    "    "
   ]
  },
  {
   "cell_type": "code",
   "execution_count": 28,
   "metadata": {},
   "outputs": [],
   "source": [
    "class Triangle(Shape):\n",
    "    def __init_(self, color, sides):\n",
    "        super().__init__(color, sides)\n",
    "        \n",
    "    def Draw(self):\n",
    "        print(\"Triangle is being Drawn.\")"
   ]
  },
  {
   "cell_type": "code",
   "execution_count": 31,
   "metadata": {},
   "outputs": [
    {
     "name": "stdout",
     "output_type": "stream",
     "text": [
      "Triangle is being Drawn.\n"
     ]
    }
   ],
   "source": [
    "T = Triangle(\"Red\", 3)\n",
    "T.Draw()"
   ]
  },
  {
   "cell_type": "code",
   "execution_count": 30,
   "metadata": {},
   "outputs": [],
   "source": [
    "class Rectangle(Shape):\n",
    "    def __init_(self, color, sides):\n",
    "        super().__init__(color, sides)\n",
    "        \n",
    "    def Draw(self):\n",
    "        print(\"Rectangle is being Drawn.\")"
   ]
  },
  {
   "cell_type": "code",
   "execution_count": 32,
   "metadata": {},
   "outputs": [
    {
     "name": "stdout",
     "output_type": "stream",
     "text": [
      "Rectangle is being Drawn.\n"
     ]
    }
   ],
   "source": [
    "T = Rectangle(\"Red\", 3)\n",
    "T.Draw()"
   ]
  },
  {
   "cell_type": "markdown",
   "metadata": {},
   "source": [
    "# I/O operations"
   ]
  },
  {
   "cell_type": "code",
   "execution_count": 34,
   "metadata": {},
   "outputs": [],
   "source": [
    "with open('abc.txt','w') as f:\n",
    "    f.write(\"Assalamualaikum\")\n"
   ]
  },
  {
   "cell_type": "code",
   "execution_count": 35,
   "metadata": {},
   "outputs": [],
   "source": [
    "with open('abc.txt','a') as f:\n",
    "    f.write(\"hello world\")"
   ]
  },
  {
   "cell_type": "code",
   "execution_count": 36,
   "metadata": {},
   "outputs": [
    {
     "name": "stdout",
     "output_type": "stream",
     "text": [
      "Assalamualaikumhello world\n"
     ]
    }
   ],
   "source": [
    "with open('abc.txt', 'r') as f:\n",
    "    print(f.read())\n",
    "    "
   ]
  },
  {
   "cell_type": "code",
   "execution_count": 37,
   "metadata": {},
   "outputs": [
    {
     "name": "stdout",
     "output_type": "stream",
     "text": [
      "Assalamualaikumhello world\n"
     ]
    }
   ],
   "source": [
    "f = open('abc.txt', 'r')\n",
    "print(f.read())\n",
    "f.close()    "
   ]
  },
  {
   "cell_type": "code",
   "execution_count": 38,
   "metadata": {},
   "outputs": [],
   "source": [
    "import calculator "
   ]
  },
  {
   "cell_type": "code",
   "execution_count": 46,
   "metadata": {},
   "outputs": [
    {
     "data": {
      "text/plain": [
       "2.0"
      ]
     },
     "execution_count": 46,
     "metadata": {},
     "output_type": "execute_result"
    }
   ],
   "source": [
    "calculator.div(4,2)"
   ]
  },
  {
   "cell_type": "code",
   "execution_count": 41,
   "metadata": {},
   "outputs": [],
   "source": [
    "#alias\n",
    "import calculator as c\n"
   ]
  },
  {
   "cell_type": "code",
   "execution_count": 64,
   "metadata": {},
   "outputs": [
    {
     "data": {
      "text/plain": [
       "4.0"
      ]
     },
     "execution_count": 64,
     "metadata": {},
     "output_type": "execute_result"
    }
   ],
   "source": [
    "c.sub(4,2)\n",
    "c.div(8,2)"
   ]
  },
  {
   "cell_type": "code",
   "execution_count": 65,
   "metadata": {},
   "outputs": [],
   "source": [
    "from calculator import mult,add"
   ]
  },
  {
   "cell_type": "code",
   "execution_count": 66,
   "metadata": {},
   "outputs": [
    {
     "name": "stdout",
     "output_type": "stream",
     "text": [
      "10\n"
     ]
    }
   ],
   "source": [
    "mult(4,5)\n",
    "print(add(8,2))"
   ]
  },
  {
   "cell_type": "code",
   "execution_count": 47,
   "metadata": {},
   "outputs": [],
   "source": [
    "def write():\n",
    "    id = input(\"Id: \")\n",
    "    name = input(\"Name: \")\n",
    "    cgpa = input(\"CGPA: \")\n",
    "    with open('test.csv','a') as f:\n",
    "        f.write(id + \",\"+ name + \",\" + cgpa + \"\\n\")"
   ]
  },
  {
   "cell_type": "code",
   "execution_count": 48,
   "metadata": {},
   "outputs": [
    {
     "name": "stdout",
     "output_type": "stream",
     "text": [
      "Id: 1\n",
      "Name: noman\n",
      "CGPA: 3\n",
      "Id: 2\n",
      "Name: ali\n",
      "CGPA: 3\n",
      "Id: asghar\n",
      "Name: asghar\n",
      "CGPA: 6\n",
      "Id: ahmed\n",
      "Name: ahmed\n",
      "CGPA: 4\n",
      "Id: 12\n",
      "Name: naem\n",
      "CGPA: 4\n"
     ]
    }
   ],
   "source": [
    "for i in range(0,5):\n",
    "    write()"
   ]
  },
  {
   "cell_type": "markdown",
   "metadata": {},
   "source": [
    "# CSV File Handling"
   ]
  },
  {
   "cell_type": "code",
   "execution_count": 55,
   "metadata": {},
   "outputs": [
    {
     "name": "stdout",
     "output_type": "stream",
     "text": [
      "1 noman 3\n",
      "2 ali 3\n",
      "asghar asghar 6\n",
      "ahmed ahmed 4\n",
      "12 naem 4\n"
     ]
    }
   ],
   "source": [
    "import csv\n",
    "data = []\n",
    "with open(\"test.csv\") as f: \n",
    "    contents_of_file = csv.reader(f)\n",
    "    for each_line in contents_of_file: \n",
    "        #data += each_line\n",
    "        print(each_line[0],each_line[1],each_line[2])\n",
    "#print(data)\n",
    "\n"
   ]
  },
  {
   "cell_type": "code",
   "execution_count": 67,
   "metadata": {},
   "outputs": [
    {
     "name": "stdout",
     "output_type": "stream",
     "text": [
      "['1', 'noman', '3\\n']\n",
      "['2', 'ali', '3\\n']\n",
      "['asghar', 'asghar', '6\\n']\n",
      "['ahmed', 'ahmed', '4\\n']\n",
      "['12', 'naem', '4\\n']\n"
     ]
    }
   ],
   "source": [
    "with open(\"test.csv\") as f:\n",
    "    data = f.readlines()\n",
    "    \n",
    "    for each_line in data: \n",
    "    \n",
    "        print(each_line.split(','))"
   ]
  },
  {
   "cell_type": "code",
   "execution_count": 69,
   "metadata": {},
   "outputs": [],
   "source": [
    "#CSV -> comma seperated values\n",
    "with open(\"abc.csv\", \"w\", newline=\"\") as f: \n",
    "    data_handler = csv.writer(f, delimiter=\",\") \n",
    "    data_handler.writerow([\"Year\", \"Event\", \"Winner\"]) \n",
    "    data_handler.writerow([\"1995\", \"Best-Kept Lawn\", \"None\"]) \n",
    "    data_handler.writerow([\"1999\", \"Gobstones\", \"Welch National\"])\n"
   ]
  },
  {
   "cell_type": "code",
   "execution_count": null,
   "metadata": {},
   "outputs": [],
   "source": []
  },
  {
   "cell_type": "code",
   "execution_count": null,
   "metadata": {},
   "outputs": [],
   "source": []
  },
  {
   "cell_type": "code",
   "execution_count": null,
   "metadata": {},
   "outputs": [],
   "source": []
  },
  {
   "cell_type": "code",
   "execution_count": null,
   "metadata": {},
   "outputs": [],
   "source": []
  },
  {
   "cell_type": "code",
   "execution_count": null,
   "metadata": {},
   "outputs": [],
   "source": []
  },
  {
   "cell_type": "code",
   "execution_count": null,
   "metadata": {},
   "outputs": [],
   "source": []
  }
 ],
 "metadata": {
  "kernelspec": {
   "display_name": "Python 3",
   "language": "python",
   "name": "python3"
  },
  "language_info": {
   "codemirror_mode": {
    "name": "ipython",
    "version": 3
   },
   "file_extension": ".py",
   "mimetype": "text/x-python",
   "name": "python",
   "nbconvert_exporter": "python",
   "pygments_lexer": "ipython3",
   "version": "3.7.1"
  }
 },
 "nbformat": 4,
 "nbformat_minor": 2
}
