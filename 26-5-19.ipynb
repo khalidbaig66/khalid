{
 "cells": [
  {
   "cell_type": "code",
   "execution_count": 3,
   "metadata": {},
   "outputs": [
    {
     "name": "stdout",
     "output_type": "stream",
     "text": [
      "Value of a = 3\n",
      "Range = 10\n",
      "3 x 1 =  3\n",
      "3 x 2 =  6\n",
      "3 x 3 =  9\n",
      "3 x 4 =  12\n",
      "3 x 5 =  15\n",
      "3 x 6 =  18\n",
      "3 x 7 =  21\n",
      "3 x 8 =  24\n",
      "3 x 9 =  27\n",
      "3 x 10 =  30\n"
     ]
    }
   ],
   "source": [
    "a=int(input(\"Value of a = \"))\n",
    "b=int(input(\"Range = \"))\n",
    "\n",
    "for i in range(1,b+1):\n",
    "   print(a,\"x\",i,\"= \",a*i)    "
   ]
  },
  {
   "cell_type": "markdown",
   "metadata": {},
   "source": [
    "B W B W B W B W\n",
    "W B W B W B W B\n",
    "B W B W B W B W\n",
    "W B W B W B W B\n",
    "B W B W B W B W\n",
    "W B W B W B W B\n",
    "B W B W B W B W\n",
    "W B W B W B W B\n"
   ]
  },
  {
   "cell_type": "code",
   "execution_count": 7,
   "metadata": {},
   "outputs": [
    {
     "name": "stdout",
     "output_type": "stream",
     "text": [
      "B W B W B W B W \n",
      "W B W B W B W B \n",
      "B W B W B W B W \n",
      "W B W B W B W B \n",
      "B W B W B W B W \n",
      "W B W B W B W B \n",
      "B W B W B W B W \n",
      "W B W B W B W B \n"
     ]
    }
   ],
   "source": [
    "for i in range(8):\n",
    "    for j in range(4):\n",
    "        if i%2==0:\n",
    "            print(\"B W \",end='')\n",
    "        else:\n",
    "            print(\"W B \",end='')\n",
    "    print()"
   ]
  },
  {
   "cell_type": "code",
   "execution_count": 12,
   "metadata": {},
   "outputs": [
    {
     "name": "stdout",
     "output_type": "stream",
     "text": [
      "B W B W B W B W \n",
      "W B W B W B W B \n",
      "B W B W B W B W \n",
      "W B W B W B W B \n",
      "B W B W B W B W \n",
      "W B W B W B W B \n",
      "B W B W B W B W \n",
      "W B W B W B W B \n"
     ]
    }
   ],
   "source": [
    "for i in range(0,8):\n",
    "    for j in range(0,8):\n",
    "        if (i+j)%2 == 0:\n",
    "            print(\"B \",end=\"\")\n",
    "        else:\n",
    "            print(\"W \",end=\"\")  \n",
    "    print(\"\")\n",
    "                  \n",
    "        "
   ]
  },
  {
   "cell_type": "code",
   "execution_count": 19,
   "metadata": {},
   "outputs": [
    {
     "name": "stdout",
     "output_type": "stream",
     "text": [
      "Hello\n"
     ]
    }
   ],
   "source": [
    "color = (\"red\", \"green\", \"blue\")\n",
    "color = (\"pink\", \"yellow\", \"blue\")\n",
    "color = \"Hello\"\n",
    "print(color)"
   ]
  },
  {
   "cell_type": "code",
   "execution_count": 26,
   "metadata": {},
   "outputs": [
    {
     "name": "stdout",
     "output_type": "stream",
     "text": [
      "hello world\n",
      "HELLO WORLD\n",
      "Hello World\n"
     ]
    }
   ],
   "source": [
    "str1 = \"hello world\"\n",
    "str2 = str1.upper()\n",
    "str3 = str1.title()\n",
    "print(str1)\n",
    "print(str2)\n",
    "print(str3)\n"
   ]
  },
  {
   "cell_type": "code",
   "execution_count": 31,
   "metadata": {},
   "outputs": [
    {
     "name": "stdout",
     "output_type": "stream",
     "text": [
      "enter sentence..MOS\n"
     ]
    },
    {
     "data": {
      "text/plain": [
       "1"
      ]
     },
     "execution_count": 31,
     "metadata": {},
     "output_type": "execute_result"
    }
   ],
   "source": [
    "word = input('enter sentence..')\n",
    "\n",
    "word.count(' ')+1\n"
   ]
  },
  {
   "cell_type": "code",
   "execution_count": 37,
   "metadata": {},
   "outputs": [
    {
     "name": "stdout",
     "output_type": "stream",
     "text": [
      "Enter Sentence this  is mohsin\n"
     ]
    },
    {
     "data": {
      "text/plain": [
       "3"
      ]
     },
     "execution_count": 37,
     "metadata": {},
     "output_type": "execute_result"
    }
   ],
   "source": [
    "word = input(\"Enter Sentence \")\n",
    "x = word.split()\n",
    "len(x)"
   ]
  },
  {
   "cell_type": "code",
   "execution_count": 40,
   "metadata": {},
   "outputs": [
    {
     "data": {
      "text/plain": [
       "'Noman Islam'"
      ]
     },
     "execution_count": 40,
     "metadata": {},
     "output_type": "execute_result"
    }
   ],
   "source": [
    "doctor = {\"name\":\"Noman Islam\", \"qualification\":\"PHD\",\"Salary\":\"300000\"}\n",
    "doctor[\"name\"]\n"
   ]
  },
  {
   "cell_type": "code",
   "execution_count": 42,
   "metadata": {},
   "outputs": [
    {
     "data": {
      "text/plain": [
       "dict_keys(['name', 'qualification', 'Salary'])"
      ]
     },
     "execution_count": 42,
     "metadata": {},
     "output_type": "execute_result"
    }
   ],
   "source": [
    "doctor.keys()"
   ]
  },
  {
   "cell_type": "code",
   "execution_count": 43,
   "metadata": {},
   "outputs": [
    {
     "data": {
      "text/plain": [
       "dict_values(['Noman Islam', 'PHD', '300000'])"
      ]
     },
     "execution_count": 43,
     "metadata": {},
     "output_type": "execute_result"
    }
   ],
   "source": [
    "doctor.values()"
   ]
  },
  {
   "cell_type": "code",
   "execution_count": 48,
   "metadata": {},
   "outputs": [
    {
     "name": "stdout",
     "output_type": "stream",
     "text": [
      "name Noman Islam\n",
      "qualification PHD\n",
      "Salary 300000\n"
     ]
    }
   ],
   "source": [
    "for i in doctor.keys():\n",
    "    print(i,doctor[i])\n"
   ]
  },
  {
   "cell_type": "code",
   "execution_count": 51,
   "metadata": {},
   "outputs": [
    {
     "data": {
      "text/plain": [
       "{'name': 'Noman Islam',\n",
       " 'qualification': 'PHD',\n",
       " 'Salary': '300000',\n",
       " 'specialization': 'Computer Science'}"
      ]
     },
     "execution_count": 51,
     "metadata": {},
     "output_type": "execute_result"
    }
   ],
   "source": [
    "doctor[\"specialization\"] = \"Computer Science\"\n",
    "doctor"
   ]
  },
  {
   "cell_type": "code",
   "execution_count": 52,
   "metadata": {},
   "outputs": [
    {
     "name": "stdout",
     "output_type": "stream",
     "text": [
      "name Noman Islam\n",
      "qualification PHD\n",
      "Salary 300000\n",
      "specialization Computer Science\n"
     ]
    }
   ],
   "source": [
    "for i,j in doctor.items():\n",
    "    print(i, j)"
   ]
  },
  {
   "cell_type": "code",
   "execution_count": null,
   "metadata": {},
   "outputs": [],
   "source": [
    "hello\n",
    "h 1\n",
    "e 1\n",
    "l 2\n",
    "o 1"
   ]
  },
  {
   "cell_type": "code",
   "execution_count": 49,
   "metadata": {},
   "outputs": [
    {
     "name": "stdout",
     "output_type": "stream",
     "text": [
      "Enter a sentenceHello World\n",
      "{'H': 1, 'e': 1, 'l': 3, 'o': 2, ' ': 1, 'W': 1, 'r': 1, 'd': 1}\n"
     ]
    }
   ],
   "source": [
    "char_count = {}\n",
    "word = input(\"Enter a sentence\")\n",
    "for i in word:\n",
    "    if i in char_count.keys():\n",
    "        char_count[i] += 1\n",
    "    else:\n",
    "        char_count[i] = 1\n",
    "        \n",
    "print(char_count)\n",
    "    "
   ]
  },
  {
   "cell_type": "code",
   "execution_count": 50,
   "metadata": {},
   "outputs": [
    {
     "name": "stdout",
     "output_type": "stream",
     "text": [
      "Enter a sentenceali ali is is khan yar\n",
      "{'ali': 2, 'is': 2, 'khan': 1, 'yar': 1}\n"
     ]
    }
   ],
   "source": [
    "char_count = {}\n",
    "word = input(\"Enter a sentence\")\n",
    "word = word.split(' ')\n",
    "for i in word:\n",
    "    if i in char_count.keys():\n",
    "        char_count[i] += 1\n",
    "    else:\n",
    "        char_count[i] = 1\n",
    "        \n",
    "print(char_count)\n",
    "    "
   ]
  },
  {
   "cell_type": "code",
   "execution_count": 53,
   "metadata": {},
   "outputs": [],
   "source": [
    "doctors = [{\"name\":\"Zubair\",\"Salary\":\"60000\"},{\"name\":\"Mohsin\",\"salary\":\"60000\"}] "
   ]
  },
  {
   "cell_type": "code",
   "execution_count": 57,
   "metadata": {},
   "outputs": [
    {
     "data": {
      "text/plain": [
       "'Zubair'"
      ]
     },
     "execution_count": 57,
     "metadata": {},
     "output_type": "execute_result"
    }
   ],
   "source": [
    "doctors[0][\"name\"]"
   ]
  },
  {
   "cell_type": "code",
   "execution_count": 58,
   "metadata": {},
   "outputs": [
    {
     "data": {
      "text/plain": [
       "[{'Salary': '60000'}, {'name': 'Mohsin', 'salary': '60000'}]"
      ]
     },
     "execution_count": 58,
     "metadata": {},
     "output_type": "execute_result"
    }
   ],
   "source": [
    "del doctors[0][\"name\"]\n",
    "doctors"
   ]
  },
  {
   "cell_type": "code",
   "execution_count": 59,
   "metadata": {},
   "outputs": [],
   "source": [
    "customer_29876 = {\"first name\": \"David\", \"last name\": \"Elliott\", \"address\": \"4803 Wellesley St.\", \"discounts\": [\"standard\", \"volume\", \"loyalty\"]} \n"
   ]
  },
  {
   "cell_type": "code",
   "execution_count": 63,
   "metadata": {},
   "outputs": [
    {
     "data": {
      "text/plain": [
       "{'first name': 'David',\n",
       " 'last name': 'Elliott',\n",
       " 'address': '4803 Wellesley St.',\n",
       " 'discounts': ['volume', 'loyalty']}"
      ]
     },
     "execution_count": 63,
     "metadata": {},
     "output_type": "execute_result"
    }
   ],
   "source": [
    "del customer_29876['discounts'][0]\n",
    "customer_29876"
   ]
  },
  {
   "cell_type": "code",
   "execution_count": 65,
   "metadata": {},
   "outputs": [
    {
     "data": {
      "text/plain": [
       "{'johnog': {'first name': 'John',\n",
       "  'last name': 'Ogden',\n",
       "  'address': '301 Arbor Rd.'},\n",
       " 'coder1200': {'first name': 'Ann',\n",
       "  'last name': 'Sattermyer',\n",
       "  'address': 'PO Box 1145'},\n",
       " 'madmaxine': {'first name': 'Jill',\n",
       "  'last name': 'Somers',\n",
       "  'address': '3 Main St.'}}"
      ]
     },
     "execution_count": 65,
     "metadata": {},
     "output_type": "execute_result"
    }
   ],
   "source": [
    "customers = { \"johnog\": {\"first name\":\"John\", \"last name\": \"Ogden\", \"address\": \"301 Arbor Rd.\" }, \"coder1200\": {\"first name\":\"Ann\", \"last name\": \"Sattermyer\", \"address\": \"PO Box 1145\" }, \"madmaxine\": {\"first name\":\"Jill\", \"last name\": \"Somers\", \"address\": \"3 Main St.\" } \n",
    "  } \n",
    "customers"
   ]
  },
  {
   "cell_type": "code",
   "execution_count": 68,
   "metadata": {},
   "outputs": [
    {
     "data": {
      "text/plain": [
       "{'first name': 'John', 'last name': 'Ogden', 'address': '301 Arbor Rd.'}"
      ]
     },
     "execution_count": 68,
     "metadata": {},
     "output_type": "execute_result"
    }
   ],
   "source": [
    "customers['johnog']"
   ]
  },
  {
   "cell_type": "code",
   "execution_count": 71,
   "metadata": {},
   "outputs": [
    {
     "data": {
      "text/plain": [
       "'301 Arbor Rd.'"
      ]
     },
     "execution_count": 71,
     "metadata": {},
     "output_type": "execute_result"
    }
   ],
   "source": [
    "customers['johnog']['address']"
   ]
  }
 ],
 "metadata": {
  "kernelspec": {
   "display_name": "Python 3",
   "language": "python",
   "name": "python3"
  },
  "language_info": {
   "codemirror_mode": {
    "name": "ipython",
    "version": 3
   },
   "file_extension": ".py",
   "mimetype": "text/x-python",
   "name": "python",
   "nbconvert_exporter": "python",
   "pygments_lexer": "ipython3",
   "version": "3.7.1"
  }
 },
 "nbformat": 4,
 "nbformat_minor": 2
}
