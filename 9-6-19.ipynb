{
 "cells": [
  {
   "cell_type": "code",
   "execution_count": 2,
   "metadata": {},
   "outputs": [],
   "source": [
    "def addition():\n",
    "    number1 = 4\n",
    "    number2  = 2\n",
    "    print(number1+number2)"
   ]
  },
  {
   "cell_type": "code",
   "execution_count": 3,
   "metadata": {},
   "outputs": [
    {
     "name": "stdout",
     "output_type": "stream",
     "text": [
      "6\n"
     ]
    }
   ],
   "source": [
    "addition()"
   ]
  },
  {
   "cell_type": "code",
   "execution_count": 4,
   "metadata": {},
   "outputs": [
    {
     "name": "stdout",
     "output_type": "stream",
     "text": [
      "12\n"
     ]
    }
   ],
   "source": [
    "def func2(num1, num2):\n",
    "    print(num1+num2)\n",
    "    \n",
    "func2(5,7)"
   ]
  },
  {
   "cell_type": "code",
   "execution_count": 5,
   "metadata": {},
   "outputs": [
    {
     "name": "stdout",
     "output_type": "stream",
     "text": [
      "4\n"
     ]
    }
   ],
   "source": [
    "func2(2,2)"
   ]
  },
  {
   "cell_type": "code",
   "execution_count": 6,
   "metadata": {},
   "outputs": [],
   "source": [
    "def func3(num1,num2):\n",
    "    return num1+num2"
   ]
  },
  {
   "cell_type": "code",
   "execution_count": 7,
   "metadata": {},
   "outputs": [],
   "source": [
    "output = func3(5,5)"
   ]
  },
  {
   "cell_type": "code",
   "execution_count": 8,
   "metadata": {},
   "outputs": [
    {
     "name": "stdout",
     "output_type": "stream",
     "text": [
      "10\n"
     ]
    }
   ],
   "source": [
    "print(output)"
   ]
  },
  {
   "cell_type": "code",
   "execution_count": 9,
   "metadata": {},
   "outputs": [
    {
     "name": "stdout",
     "output_type": "stream",
     "text": [
      "25\n"
     ]
    }
   ],
   "source": [
    "outpu2 = func3(9,16)\n",
    "print(outpu2)"
   ]
  },
  {
   "cell_type": "code",
   "execution_count": 10,
   "metadata": {},
   "outputs": [
    {
     "name": "stdout",
     "output_type": "stream",
     "text": [
      "Enter num1: 77\n",
      "Enter num2: 3\n",
      "80\n"
     ]
    }
   ],
   "source": [
    "num1 = int(input(\"Enter num1: \"))\n",
    "num2 = int(input(\"Enter num2: \"))\n",
    "outpu3 = func3(num1, num2)\n",
    "print(outpu3)"
   ]
  },
  {
   "cell_type": "code",
   "execution_count": 12,
   "metadata": {},
   "outputs": [
    {
     "name": "stdout",
     "output_type": "stream",
     "text": [
      "enter what you want to perform \n",
      " (1)addtion \n",
      " (2)subtraction \n",
      " (3)division \n",
      "(4)multiply1\n",
      "Enter num1: 2\n",
      "Enter num2: 3\n",
      "5\n"
     ]
    }
   ],
   "source": [
    "#functions\n",
    "\n",
    "\n",
    "def add(num1,num2):\n",
    "    return num1+num2\n",
    "def sub(num1,num2):\n",
    "    return num1-num2\n",
    "def div(num1,num2):\n",
    "    return num1/num2\n",
    "def mul(num1,num2):\n",
    "    return num1*num2\n",
    "\n",
    "action=int(input(\"enter what you want to perform \\n (1)addtion \\n (2)subtraction \\n (3)division \\n(4)multiply\"))\n",
    "number1 = int(input(\"Enter num1: \"))\n",
    "number2 = int(input(\"Enter num2: \"))\n",
    "\n",
    "if(action==1):\n",
    "    print(add(number1,number2))\n",
    "elif(action==2):\n",
    "    print(sub(number1,number2))\n",
    "elif(action==3):\n",
    "    print(div(number1,number2))\n",
    "elif(action==4):\n",
    "    print(mul(number1,number2))"
   ]
  },
  {
   "cell_type": "code",
   "execution_count": 17,
   "metadata": {},
   "outputs": [],
   "source": [
    "#keyward arguments\n",
    "def numfunc(a, b):\n",
    "    print('a = ',a)\n",
    "    print('b = ',b)"
   ]
  },
  {
   "cell_type": "code",
   "execution_count": 18,
   "metadata": {},
   "outputs": [
    {
     "name": "stdout",
     "output_type": "stream",
     "text": [
      "a =  3\n",
      "b =  4\n"
     ]
    }
   ],
   "source": [
    "numfunc(3,4)"
   ]
  },
  {
   "cell_type": "code",
   "execution_count": 19,
   "metadata": {},
   "outputs": [
    {
     "name": "stdout",
     "output_type": "stream",
     "text": [
      "a =  8\n",
      "b =  15\n"
     ]
    }
   ],
   "source": [
    "numfunc(b = 15, a = 8 )"
   ]
  },
  {
   "cell_type": "code",
   "execution_count": 20,
   "metadata": {},
   "outputs": [
    {
     "name": "stdout",
     "output_type": "stream",
     "text": [
      "a =  8\n",
      "b =  10\n"
     ]
    }
   ],
   "source": [
    "numfunc(a = 8, b = 10)"
   ]
  },
  {
   "cell_type": "code",
   "execution_count": 21,
   "metadata": {},
   "outputs": [],
   "source": [
    "#Default values\n",
    "def calc_tax(sales_total, tax_rate=.04): \n",
    "    print(sales_total * tax_rate)\n"
   ]
  },
  {
   "cell_type": "code",
   "execution_count": 22,
   "metadata": {},
   "outputs": [
    {
     "name": "stdout",
     "output_type": "stream",
     "text": [
      "1000.0\n"
     ]
    }
   ],
   "source": [
    "calc_tax(10000, 0.1)"
   ]
  },
  {
   "cell_type": "code",
   "execution_count": 23,
   "metadata": {},
   "outputs": [
    {
     "name": "stdout",
     "output_type": "stream",
     "text": [
      "400.0\n"
     ]
    }
   ],
   "source": [
    "calc_tax(10000)"
   ]
  },
  {
   "cell_type": "code",
   "execution_count": 26,
   "metadata": {},
   "outputs": [
    {
     "name": "stdout",
     "output_type": "stream",
     "text": [
      "a =  10 ,b =  15\n",
      "\n",
      "a =  15 ,b =  15\n",
      "\n",
      "a =  1 ,b =  2\n",
      "\n",
      "a =  20 ,b =  9\n",
      "\n",
      "a =  2 ,b =  5\n",
      "\n",
      "a =  5 ,b =  40\n",
      "\n"
     ]
    }
   ],
   "source": [
    "#positional and fixed argumnets\n",
    "def optional_args(a , b = 15):\n",
    "    print('a = ',a,',b = ',b)\n",
    "    print()\n",
    "\n",
    "optional_args(a = 10)\n",
    "optional_args(15)\n",
    "optional_args(b = 2, a = 1)\n",
    "optional_args(20, b = 9)\n",
    "optional_args(a = 2, b = 5)\n",
    "optional_args(5,40)\n",
    "\n",
    "    "
   ]
  },
  {
   "cell_type": "code",
   "execution_count": 28,
   "metadata": {},
   "outputs": [],
   "source": [
    "#unlimited number of argumnets\n",
    "\n",
    "def numfun(x, **others):\n",
    "    print(x)\n",
    "    print(others)\n",
    "    \n",
    "    "
   ]
  },
  {
   "cell_type": "code",
   "execution_count": 29,
   "metadata": {},
   "outputs": [
    {
     "name": "stdout",
     "output_type": "stream",
     "text": [
      "x\n",
      "{'arg1': 15, 'arg2': 147, 'b': 'absd', 'y': 89, 'z': 'asd'}\n"
     ]
    }
   ],
   "source": [
    "numfun('x', arg1 = 15, arg2 = 147, b = \"absd\", y = 89, z = 'asd')"
   ]
  },
  {
   "cell_type": "code",
   "execution_count": 34,
   "metadata": {},
   "outputs": [
    {
     "name": "stdout",
     "output_type": "stream",
     "text": [
      "{'pak': 10, 'india': 11, 'westindies': 58}\n",
      "dict_keys(['pak', 'india', 'westindies'])\n",
      "dict_values([10, 11, 58])\n"
     ]
    }
   ],
   "source": [
    "#handling n number or arguments\n",
    "\n",
    "def teams(**a):\n",
    "    print(a)\n",
    "    print(a.keys())\n",
    "    print(a.values())\n",
    "    \n",
    "teams(pak= 10,india= 11, westindies = 58)"
   ]
  },
  {
   "cell_type": "code",
   "execution_count": 35,
   "metadata": {},
   "outputs": [
    {
     "name": "stdout",
     "output_type": "stream",
     "text": [
      "(23, 'asd', 34, 'aaa')\n"
     ]
    }
   ],
   "source": [
    "#arguments handling through tuple\n",
    "def f(*args):\n",
    "    print(args)\n",
    "    \n",
    "f(23,'asd',34,'aaa')\n"
   ]
  },
  {
   "cell_type": "markdown",
   "metadata": {},
   "source": [
    "# local and global varibales"
   ]
  },
  {
   "cell_type": "code",
   "execution_count": 38,
   "metadata": {},
   "outputs": [
    {
     "name": "stdout",
     "output_type": "stream",
     "text": [
      "local x =  13\n",
      "global x = 13\n"
     ]
    }
   ],
   "source": [
    "\n",
    "x = 13\n",
    "def func1():\n",
    "    x = 23\n",
    "    print('local x = ',x)\n",
    "    \n",
    "    \n",
    "func1()\n",
    "print('global x =',x)"
   ]
  },
  {
   "cell_type": "code",
   "execution_count": 39,
   "metadata": {},
   "outputs": [
    {
     "name": "stdout",
     "output_type": "stream",
     "text": [
      "3\n"
     ]
    }
   ],
   "source": [
    "def function3(x):\n",
    "    x += 1\n",
    "\n",
    "x = 3\n",
    "function3(x)\n",
    "print(x)"
   ]
  },
  {
   "cell_type": "code",
   "execution_count": 40,
   "metadata": {},
   "outputs": [
    {
     "name": "stdout",
     "output_type": "stream",
     "text": [
      "4\n"
     ]
    }
   ],
   "source": [
    "#call by value\n",
    "def function3(x):\n",
    "    return x + 1\n",
    "\n",
    "x = 3\n",
    "x = function3(x)\n",
    "print(x)"
   ]
  },
  {
   "cell_type": "code",
   "execution_count": 46,
   "metadata": {},
   "outputs": [
    {
     "name": "stdout",
     "output_type": "stream",
     "text": [
      "['Hello']\n"
     ]
    }
   ],
   "source": [
    "#Call by reference\n",
    "def func4(l):\n",
    "    l.append('Hello')\n",
    "    \n",
    "l=[]\n",
    "func4(l)\n",
    "print(l)"
   ]
  },
  {
   "cell_type": "code",
   "execution_count": 47,
   "metadata": {},
   "outputs": [
    {
     "name": "stdout",
     "output_type": "stream",
     "text": [
      "['Hello', 'Hello']\n"
     ]
    }
   ],
   "source": [
    "x = func4\n",
    "x(l)\n",
    "print(l)"
   ]
  },
  {
   "cell_type": "code",
   "execution_count": 51,
   "metadata": {},
   "outputs": [
    {
     "name": "stdout",
     "output_type": "stream",
     "text": [
      "function completed\n",
      "x\n"
     ]
    }
   ],
   "source": [
    "#function within function\n",
    "def message():\n",
    "    print(\"function completed\")\n",
    "    def x():\n",
    "        print('x')\n",
    "    x()\n",
    "    \n",
    "message()\n",
    "\n"
   ]
  },
  {
   "cell_type": "code",
   "execution_count": 53,
   "metadata": {},
   "outputs": [
    {
     "name": "stdout",
     "output_type": "stream",
     "text": [
      "Enter word:abbas\n",
      "sabba\n",
      "Enter word:burger\n",
      "regrub\n",
      "Enter word:pak\n",
      "kap\n",
      "Enter word:q\n",
      "q\n",
      "Quit\n"
     ]
    }
   ],
   "source": [
    "#done by abbas\n",
    "def inv():\n",
    "    en=False\n",
    "    while(not en):\n",
    "        wrd=input(\"Enter word:\")\n",
    "        print(wrd[::-1])\n",
    "        if(wrd==\"q\"):\n",
    "            en=True\n",
    "    print(\"Quit\")\n",
    "\n",
    "inv()\n",
    "        "
   ]
  },
  {
   "cell_type": "code",
   "execution_count": 54,
   "metadata": {},
   "outputs": [
    {
     "name": "stdout",
     "output_type": "stream",
     "text": [
      "Enter word:54\n",
      "45\n",
      "Enter word:usman\n",
      "namsu\n",
      "Enter word:q\n",
      "q\n",
      "Quit\n"
     ]
    }
   ],
   "source": [
    "#while simplified\n",
    "def inv():\n",
    "    while True:\n",
    "        wrd=input(\"Enter word:\")\n",
    "        print(wrd[::-1])\n",
    "        if (wrd==\"q\"):\n",
    "            break\n",
    "    print(\"Quit\")\n",
    "inv()"
   ]
  },
  {
   "cell_type": "code",
   "execution_count": 55,
   "metadata": {},
   "outputs": [
    {
     "name": "stdout",
     "output_type": "stream",
     "text": [
      "Enter somethingasd\n",
      "dsa\n",
      "Enter somethingdfg\n",
      "gfd\n",
      "Enter somethingq\n",
      "q\n"
     ]
    }
   ],
   "source": [
    "#while too much simplified\n",
    "a = ''\n",
    "while a!='q':\n",
    "    a = input(\"Enter something: \")\n",
    "    print(a[::-1])\n"
   ]
  },
  {
   "cell_type": "markdown",
   "metadata": {},
   "source": [
    "# programming paradigms\n",
    "## procedural \n",
    "## oop \n",
    "## functional \n",
    "## logical "
   ]
  },
  {
   "cell_type": "code",
   "execution_count": 58,
   "metadata": {},
   "outputs": [],
   "source": [
    "class Student:\n",
    "    def __init__(self, name, age):\n",
    "        self.name = name\n",
    "        self.age = age\n",
    "        \n",
    "    def toStudy(self):\n",
    "        print(self.name,'is studying')\n",
    "#a is object        \n",
    "a = Student('usman',23)\n",
    "b = Student('Ali',20)        \n",
    "d = Student('Ahsan',26)        \n",
    "\n"
   ]
  },
  {
   "cell_type": "code",
   "execution_count": 59,
   "metadata": {},
   "outputs": [
    {
     "name": "stdout",
     "output_type": "stream",
     "text": [
      "usman 23\n"
     ]
    }
   ],
   "source": [
    "print(a.name,a.age)"
   ]
  },
  {
   "cell_type": "code",
   "execution_count": 61,
   "metadata": {},
   "outputs": [
    {
     "name": "stdout",
     "output_type": "stream",
     "text": [
      "usman is studying\n",
      "Ali is studying\n"
     ]
    }
   ],
   "source": [
    "a.toStudy()\n",
    "b.toStudy()"
   ]
  },
  {
   "cell_type": "code",
   "execution_count": null,
   "metadata": {},
   "outputs": [],
   "source": []
  },
  {
   "cell_type": "code",
   "execution_count": null,
   "metadata": {},
   "outputs": [],
   "source": []
  },
  {
   "cell_type": "code",
   "execution_count": null,
   "metadata": {},
   "outputs": [],
   "source": []
  },
  {
   "cell_type": "code",
   "execution_count": null,
   "metadata": {},
   "outputs": [],
   "source": []
  },
  {
   "cell_type": "code",
   "execution_count": null,
   "metadata": {},
   "outputs": [],
   "source": []
  },
  {
   "cell_type": "code",
   "execution_count": null,
   "metadata": {},
   "outputs": [],
   "source": []
  },
  {
   "cell_type": "code",
   "execution_count": null,
   "metadata": {},
   "outputs": [],
   "source": []
  }
 ],
 "metadata": {
  "kernelspec": {
   "display_name": "Python 3",
   "language": "python",
   "name": "python3"
  },
  "language_info": {
   "codemirror_mode": {
    "name": "ipython",
    "version": 3
   },
   "file_extension": ".py",
   "mimetype": "text/x-python",
   "name": "python",
   "nbconvert_exporter": "python",
   "pygments_lexer": "ipython3",
   "version": "3.7.1"
  }
 },
 "nbformat": 4,
 "nbformat_minor": 2
}
